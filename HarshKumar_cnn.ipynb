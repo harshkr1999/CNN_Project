{
  "nbformat": 4,
  "nbformat_minor": 0,
  "metadata": {
    "colab": {
      "name": "HarshKumar_cnn.ipynb",
      "provenance": [],
      "collapsed_sections": [],
      "authorship_tag": "ABX9TyMeMAZrkf9Nd3EbVWbYd0YS",
      "include_colab_link": true
    },
    "kernelspec": {
      "name": "python3",
      "display_name": "Python 3"
    }
  },
  "cells": [
    {
      "cell_type": "markdown",
      "metadata": {
        "id": "view-in-github",
        "colab_type": "text"
      },
      "source": [
        "<a href=\"https://colab.research.google.com/github/harshkr1999/CNN_Project/blob/main/HarshKumar_cnn.ipynb\" target=\"_parent\"><img src=\"https://colab.research.google.com/assets/colab-badge.svg\" alt=\"Open In Colab\"/></a>"
      ]
    },
    {
      "cell_type": "code",
      "metadata": {
        "id": "U8kURFm4P5FG"
      },
      "source": [
        "#Importing\r\n",
        "import tensorflow as tf\r\n",
        "\r\n",
        "from tensorflow.keras import datasets, layers, models\r\n",
        "import matplotlib.pyplot as plt\r\n",
        " "
      ],
      "execution_count": 2,
      "outputs": []
    },
    {
      "cell_type": "code",
      "metadata": {
        "colab": {
          "base_uri": "https://localhost:8080/"
        },
        "id": "HihaykZhQAeB",
        "outputId": "a1171c92-7e1c-4773-9461-b15227e5d36b"
      },
      "source": [
        "#Downloading and Preparing the CIFAR10 dataset\r\n",
        "(train_images, train_labels), (test_images, test_labels) = datasets.cifar10.load_data()"
      ],
      "execution_count": 3,
      "outputs": [
        {
          "output_type": "stream",
          "text": [
            "Downloading data from https://www.cs.toronto.edu/~kriz/cifar-10-python.tar.gz\n",
            "170500096/170498071 [==============================] - 4s 0us/step\n"
          ],
          "name": "stdout"
        }
      ]
    },
    {
      "cell_type": "code",
      "metadata": {
        "id": "OJxEKiDMWbmF"
      },
      "source": [
        "#Normalize pixel values to be between 0 aand 1\r\n",
        "\r\n",
        "train_images, test_images = train_images / 255.0, test_images / 255.0"
      ],
      "execution_count": 5,
      "outputs": []
    },
    {
      "cell_type": "code",
      "metadata": {
        "id": "Mgbb8mRHXxfV"
      },
      "source": [
        "# Create the convolutional base\r\n",
        "\r\n",
        "model = models.Sequential()\r\n",
        "model.add(layers.Conv2D(32, (3,3), activation='relu', input_shape=(32, 32, 3)))\r\n",
        "model.add(layers.MaxPooling2D((2, 2)))\r\n",
        "model.add(layers.Conv2D(64, (3,3), activation='relu'))\r\n",
        "model.add(layers.MaxPooling2D((2, 2)))\r\n",
        "model.add(layers.Conv2D(64, (3,3), activation='relu'))"
      ],
      "execution_count": 8,
      "outputs": []
    },
    {
      "cell_type": "code",
      "metadata": {
        "colab": {
          "base_uri": "https://localhost:8080/"
        },
        "id": "3RLm-uM4X-yN",
        "outputId": "44654d65-439a-40ff-9a81-61377d617457"
      },
      "source": [
        "# Display the Architecture\r\n",
        "model.summary()"
      ],
      "execution_count": 9,
      "outputs": [
        {
          "output_type": "stream",
          "text": [
            "Model: \"sequential\"\n",
            "_________________________________________________________________\n",
            "Layer (type)                 Output Shape              Param #   \n",
            "=================================================================\n",
            "conv2d (Conv2D)              (None, 30, 30, 32)        896       \n",
            "_________________________________________________________________\n",
            "max_pooling2d (MaxPooling2D) (None, 15, 15, 32)        0         \n",
            "_________________________________________________________________\n",
            "conv2d_1 (Conv2D)            (None, 13, 13, 64)        18496     \n",
            "_________________________________________________________________\n",
            "max_pooling2d_1 (MaxPooling2 (None, 6, 6, 64)          0         \n",
            "_________________________________________________________________\n",
            "conv2d_2 (Conv2D)            (None, 4, 4, 64)          36928     \n",
            "=================================================================\n",
            "Total params: 56,320\n",
            "Trainable params: 56,320\n",
            "Non-trainable params: 0\n",
            "_________________________________________________________________\n"
          ],
          "name": "stdout"
        }
      ]
    },
    {
      "cell_type": "code",
      "metadata": {
        "id": "B8eoYg-GZWYU"
      },
      "source": [
        "# Adding Dense Layer on Top\r\n",
        "\r\n",
        "model.add(layers.Flatten())\r\n",
        "model.add(layers.Dense(64, activation='relu'))\r\n",
        "model.add(layers.Dense(10))"
      ],
      "execution_count": 10,
      "outputs": []
    },
    {
      "cell_type": "code",
      "metadata": {
        "colab": {
          "base_uri": "https://localhost:8080/"
        },
        "id": "XhhpEtzydQks",
        "outputId": "bf0a11fb-e1ad-469d-d06a-30812a298e4a"
      },
      "source": [
        "# Display the Architecture\r\n",
        "model.summary()"
      ],
      "execution_count": 12,
      "outputs": [
        {
          "output_type": "stream",
          "text": [
            "Model: \"sequential\"\n",
            "_________________________________________________________________\n",
            "Layer (type)                 Output Shape              Param #   \n",
            "=================================================================\n",
            "conv2d (Conv2D)              (None, 30, 30, 32)        896       \n",
            "_________________________________________________________________\n",
            "max_pooling2d (MaxPooling2D) (None, 15, 15, 32)        0         \n",
            "_________________________________________________________________\n",
            "conv2d_1 (Conv2D)            (None, 13, 13, 64)        18496     \n",
            "_________________________________________________________________\n",
            "max_pooling2d_1 (MaxPooling2 (None, 6, 6, 64)          0         \n",
            "_________________________________________________________________\n",
            "conv2d_2 (Conv2D)            (None, 4, 4, 64)          36928     \n",
            "_________________________________________________________________\n",
            "flatten (Flatten)            (None, 1024)              0         \n",
            "_________________________________________________________________\n",
            "dense (Dense)                (None, 64)                65600     \n",
            "_________________________________________________________________\n",
            "dense_1 (Dense)              (None, 10)                650       \n",
            "=================================================================\n",
            "Total params: 122,570\n",
            "Trainable params: 122,570\n",
            "Non-trainable params: 0\n",
            "_________________________________________________________________\n"
          ],
          "name": "stdout"
        }
      ]
    },
    {
      "cell_type": "code",
      "metadata": {
        "colab": {
          "base_uri": "https://localhost:8080/"
        },
        "id": "b7IeRf3yeCw9",
        "outputId": "415cc325-f9a3-4048-ac49-4209f6dc0d62"
      },
      "source": [
        "# Compile and Training the Model\r\n",
        "model.compile(optimizer='adam',\r\n",
        "              loss=tf.keras.losses.SparseCategoricalCrossentropy(from_logits=True),\r\n",
        "              metrics=['accuracy'])\r\n",
        "\r\n",
        "history = model.fit(train_images, train_labels, epochs=10,\r\n",
        "                    validation_data=(test_images, test_labels))"
      ],
      "execution_count": 13,
      "outputs": [
        {
          "output_type": "stream",
          "text": [
            "Epoch 1/10\n",
            "1563/1563 [==============================] - 69s 44ms/step - loss: 1.7640 - accuracy: 0.3389 - val_loss: 1.2968 - val_accuracy: 0.5358\n",
            "Epoch 2/10\n",
            "1563/1563 [==============================] - 66s 42ms/step - loss: 1.2104 - accuracy: 0.5730 - val_loss: 1.1049 - val_accuracy: 0.6138\n",
            "Epoch 3/10\n",
            "1563/1563 [==============================] - 66s 42ms/step - loss: 1.0425 - accuracy: 0.6310 - val_loss: 1.0145 - val_accuracy: 0.6443\n",
            "Epoch 4/10\n",
            "1563/1563 [==============================] - 66s 42ms/step - loss: 0.9330 - accuracy: 0.6716 - val_loss: 0.9643 - val_accuracy: 0.6593\n",
            "Epoch 5/10\n",
            "1563/1563 [==============================] - 66s 42ms/step - loss: 0.8544 - accuracy: 0.6989 - val_loss: 0.9283 - val_accuracy: 0.6800\n",
            "Epoch 6/10\n",
            "1563/1563 [==============================] - 66s 42ms/step - loss: 0.7954 - accuracy: 0.7217 - val_loss: 0.9276 - val_accuracy: 0.6776\n",
            "Epoch 7/10\n",
            "1563/1563 [==============================] - 65s 42ms/step - loss: 0.7364 - accuracy: 0.7418 - val_loss: 0.8930 - val_accuracy: 0.6967\n",
            "Epoch 8/10\n",
            "1563/1563 [==============================] - 66s 42ms/step - loss: 0.7032 - accuracy: 0.7545 - val_loss: 0.8558 - val_accuracy: 0.7093\n",
            "Epoch 9/10\n",
            "1563/1563 [==============================] - 66s 42ms/step - loss: 0.6562 - accuracy: 0.7732 - val_loss: 0.9126 - val_accuracy: 0.6974\n",
            "Epoch 10/10\n",
            "1563/1563 [==============================] - 66s 42ms/step - loss: 0.6252 - accuracy: 0.7804 - val_loss: 0.8733 - val_accuracy: 0.7087\n"
          ],
          "name": "stdout"
        }
      ]
    },
    {
      "cell_type": "code",
      "metadata": {
        "colab": {
          "base_uri": "https://localhost:8080/"
        },
        "id": "DDqiJf9kfAKo",
        "outputId": "a76fda8f-c01a-490c-a9bb-0764b9cb38da"
      },
      "source": [
        "# Evaluate the Model\r\n",
        "\r\n",
        "test_loss, test_acc = model.evaluate(test_images, test_labels, verbose = 2)"
      ],
      "execution_count": 14,
      "outputs": [
        {
          "output_type": "stream",
          "text": [
            "313/313 - 4s - loss: 0.8733 - accuracy: 0.7087\n"
          ],
          "name": "stdout"
        }
      ]
    },
    {
      "cell_type": "code",
      "metadata": {
        "colab": {
          "base_uri": "https://localhost:8080/"
        },
        "id": "A4LZl0BYh1Ty",
        "outputId": "4365fd97-bd24-4296-f484-4895e6f3da34"
      },
      "source": [
        "# Display the Test Accuracy\r\n",
        "print(test_acc)"
      ],
      "execution_count": 15,
      "outputs": [
        {
          "output_type": "stream",
          "text": [
            "0.7087000012397766\n"
          ],
          "name": "stdout"
        }
      ]
    }
  ]
}
